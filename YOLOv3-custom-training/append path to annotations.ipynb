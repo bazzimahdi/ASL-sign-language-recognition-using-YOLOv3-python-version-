{
 "cells": [
  {
   "cell_type": "code",
   "execution_count": 1,
   "id": "db1be99d",
   "metadata": {},
   "outputs": [],
   "source": [
    "import os\n",
    "import random\n",
    "import numpy as np\n",
    "from sklearn.model_selection import StratifiedShuffleSplit"
   ]
  },
  {
   "cell_type": "code",
   "execution_count": 162,
   "id": "0b13af7f",
   "metadata": {},
   "outputs": [],
   "source": [
    "def change_annot_path_split(base_path,file_path):\n",
    "    \"\"\"\n",
    "    make sure to enter double backslash in path to prevent python special function such as \\s or \\t\n",
    "    \"\"\"\n",
    "    with open(file_path,'r') as f:\n",
    "        new_list=f.read()\n",
    "        \n",
    "    new_list=new_list.split('\\n')\n",
    "    \n",
    "    \n",
    "    labels=[]\n",
    "\n",
    "    for row in new_list:\n",
    "        labels.append(row.split()[0][0])\n",
    "    \n",
    "    from sklearn.model_selection import train_test_split\n",
    "    X_train,X_test,y_train,y_test = train_test_split(new_list,labels,test_size=0.2,stratify=labels,random_state=0)\n",
    "    \n",
    "    \n",
    "    \n",
    "    new_row=[]\n",
    "    appended_list_train=[]\n",
    "    for rows in X_train:\n",
    "        new_row=base_path+rows\n",
    "        appended_list_train.append(new_row)\n",
    "        new_row=[]\n",
    "        \n",
    "    new_row=[]\n",
    "    appended_list_test=[]\n",
    "    for rows in X_test:\n",
    "        new_row=base_path+rows\n",
    "        appended_list_test.append(new_row)\n",
    "        new_row=[]        \n",
    "        \n",
    "    new_file=open('custom_train.txt','w')\n",
    "    for row in appended_list_train:\n",
    "        new_file.write(row)\n",
    "        new_file.write('\\n')\n",
    "    new_file.close()\n",
    "    \n",
    "    new_file=open('custom_test.txt','w')\n",
    "    for row in appended_list_test:\n",
    "        new_file.write(row)\n",
    "        new_file.write('\\n')\n",
    "    new_file.close()\n",
    "            "
   ]
  },
  {
   "cell_type": "code",
   "execution_count": 163,
   "id": "f16b356e",
   "metadata": {},
   "outputs": [],
   "source": [
    "base_path='D:\\Python\\yolo_prom02\\\\yolo_keras\\YOLOv3-custom-training\\custom_data\\\\new_split_data\\\\'\n",
    "file_path=r'D:\\Python\\yolo_prom02\\\\yolo_keras\\YOLOv3-custom-training\\custom_data\\\\new_split_data\\\\_annotations.txt'\n",
    "\n",
    "change_annot_path_split(base_path,file_path)"
   ]
  },
  {
   "cell_type": "code",
   "execution_count": 2,
   "id": "df7decee",
   "metadata": {},
   "outputs": [],
   "source": [
    "base_path='D:\\Python\\yolo_prom02\\\\yolo_keras\\YOLOv3-custom-training\\custom_data\\\\test\\\\'\n",
    "file_path=r'D:\\Python\\yolo_prom02\\\\yolo_keras\\YOLOv3-custom-training\\custom_data\\\\test\\\\_annotations.txt'"
   ]
  },
  {
   "cell_type": "code",
   "execution_count": 6,
   "id": "e87f8f46",
   "metadata": {},
   "outputs": [],
   "source": [
    "def change_annot_path(base_path,file_path):\n",
    "    \"\"\"\n",
    "    make sure to enter double backslash in path to prevent python special function such as \\s or \\t\n",
    "    \"\"\"\n",
    "    with open(file_path,'r') as f:\n",
    "        new_list=f.read()\n",
    "        \n",
    "    new_list=new_list.split('\\n')\n",
    "     \n",
    "    new_row=[]\n",
    "    appended_list=[]\n",
    "    for rows in new_list:\n",
    "        new_row=base_path+rows\n",
    "        appended_list.append(new_row)\n",
    "        new_row=[]\n",
    "           \n",
    "        \n",
    "    new_file=open('custom_annot_test_2.txt','w')\n",
    "    for row in appended_list:\n",
    "        new_file.write(row)\n",
    "        new_file.write('\\n')\n",
    "    new_file.close()\n",
    "            "
   ]
  },
  {
   "cell_type": "code",
   "execution_count": 7,
   "id": "c763af2d",
   "metadata": {},
   "outputs": [],
   "source": [
    "change_annot_path(base_path,file_path)"
   ]
  },
  {
   "cell_type": "code",
   "execution_count": null,
   "id": "759b763d",
   "metadata": {},
   "outputs": [],
   "source": []
  }
 ],
 "metadata": {
  "kernelspec": {
   "display_name": "Python 3 (ipykernel)",
   "language": "python",
   "name": "python3"
  },
  "language_info": {
   "codemirror_mode": {
    "name": "ipython",
    "version": 3
   },
   "file_extension": ".py",
   "mimetype": "text/x-python",
   "name": "python",
   "nbconvert_exporter": "python",
   "pygments_lexer": "ipython3",
   "version": "3.9.7"
  }
 },
 "nbformat": 4,
 "nbformat_minor": 5
}
